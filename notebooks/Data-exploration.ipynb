{
 "cells": [
  {
   "cell_type": "code",
   "execution_count": 2,
   "metadata": {
    "collapsed": true
   },
   "outputs": [],
   "source": [
    "import numpy as np\n",
    "import pandas as pd\n",
    "import os\n",
    "import matplotlib.pyplot as plt\n",
    "%matplotlib inline\n",
    "from pybrain.datasets import SequentialDataSet\n",
    "from itertools import cycle\n",
    "from pybrain.tools.shortcuts import buildNetwork\n",
    "from pybrain.structure.modules import LSTMLayer\n",
    "from pybrain.supervised import RPropMinusTrainer"
   ]
  },
  {
   "cell_type": "code",
   "execution_count": 3,
   "metadata": {
    "collapsed": true
   },
   "outputs": [],
   "source": [
    "##Essential functions - RUN everytime \n",
    "#For a list of non hidden files\n",
    "def listdir_nohidden(path):\n",
    "    list_files = []\n",
    "    for f in os.listdir(path):\n",
    "        if not f.startswith('.'):\n",
    "            list_files.append(f)\n",
    "    return list_files"
   ]
  },
  {
   "cell_type": "code",
   "execution_count": 4,
   "metadata": {
    "collapsed": false
   },
   "outputs": [],
   "source": [
    "#Autogenerating all file names\n",
    "dirpath = os.path.dirname(os.getcwd())\n",
    "datapath = os.path.join(dirpath, 'data/HITS/SNe/')\n",
    "list_files = listdir_nohidden(datapath)\n",
    "#creating a list of files with only 'g' suffix since g band has more data\n",
    "g_check = [files.split('_')[5] == 'g.dat' for files in list_files]\n",
    "g_list_files = [files for files, check in zip(list_files, g_check) if check]"
   ]
  },
  {
   "cell_type": "code",
   "execution_count": 5,
   "metadata": {
    "collapsed": true
   },
   "outputs": [],
   "source": [
    "def data_explore(datapath, filename, create_fig=False):\n",
    "    #creating a normal and a difference plot\n",
    "    filepath = datapath + filename\n",
    "    sn = pd.read_csv(filepath, sep='\\s+', skiprows=1, header=None)\n",
    "    sn.columns =['Epoch', 'MJD', 'Mag_auto', 'Mag_err_auto','Flux_auto', 'Flux_err_auto']\n",
    "    time_norm_factor = 100\n",
    "    time_vec = np.array(sn['MJD'])*time_norm_factor\n",
    "    time_vec = np.floor(time_vec - time_vec[0])\n",
    "    #Calculating the derivative at every point\n",
    "    derivative = np.divide(np.diff(sn['Mag_auto']), np.diff(sn['MJD']))\n",
    "    #Setting up the figure\n",
    "    if create_fig == True:\n",
    "        f, axarr = plt.subplots(1, 2, figsize=(10,10))\n",
    "        #plotting the data in subplot 1\n",
    "        axarr[0].plot(time_vec, sn['Mag_auto'])\n",
    "        axarr[0].set_xlabel('Time Steps')\n",
    "        axarr[0].set_ylabel('Magnitude')\n",
    "        axarr[0].set_title('Time series plot')\n",
    "        axarr[1].plot(time_vec[1:], derivative)\n",
    "        axarr[1].set_xlabel('Time Steps')\n",
    "        axarr[1].set_ylabel('Magnitude')\n",
    "        axarr[1].set_title('Difference plot at n=1')\n",
    "        plt.savefig('../graphs/SNe/'+filename+'.png')\n",
    "        plt.close()"
   ]
  },
  {
   "cell_type": "code",
   "execution_count": 6,
   "metadata": {
    "collapsed": false
   },
   "outputs": [],
   "source": [
    "for files in g_list_files:\n",
    "    data_explore(datapath, files, create_fig=True)"
   ]
  },
  {
   "cell_type": "markdown",
   "metadata": {
    "collapsed": true
   },
   "source": [
    "#### Creating functions for training RNN's from HITS data"
   ]
  },
  {
   "cell_type": "code",
   "execution_count": 37,
   "metadata": {
    "collapsed": false
   },
   "outputs": [],
   "source": [
    "#genfolderHITS - returns list of folders from the HITS folder\n",
    "#Specific only to HITS files\n",
    "def genfolderHITS(datapath):\n",
    "    return listdir_nohidden(datapath)\n",
    "#genfiles - creates a list of files from the folder specified and \n",
    "#a folderpath for accessing the genfiles\n",
    "def genfiles(datapath, folder, band='g'):\n",
    "    bandSuffix = band+'.dat'\n",
    "    folderpath = os.path.join(datapath, folder+'/')\n",
    "    fileList = listdir_nohidden(folderpath)\n",
    "    gCheck = [files.split('_')[5] == bandSuffix for files in fileList]\n",
    "    bandFileList = [files for files, check in \\\n",
    "                    zip(fileList, gCheck) if check]\n",
    "    return bandFileList, folderpath\n",
    "#gentimeseries - returns a Sequential dataset with features\n",
    "def gentimeseries(folderpath, filename, indim, outdim):\n",
    "    filepath = folderpath+filename\n",
    "    sn = pd.read_csv(filepath, sep='\\s+', skiprows=1, header=None)\n",
    "    sn.columns =['Epoch', 'MJD', 'Mag_auto', 'Mag_err_auto','Flux_auto',\\\n",
    "                 'Flux_err_auto']\n",
    "    timeVec = np.array(sn['MJD'] - sn['MJD'][0])\n",
    "    deltimeVec = np.lib.pad(np.diff(timeVec), (1,0), 'edge')\n",
    "    assert len(deltimeVec) == len(timeVec)\n",
    "    magnitude = np.array(sn['Mag_auto'])\n",
    "    derivative = np.divide(np.diff(sn['Mag_auto']), np.diff(sn['MJD']))\n",
    "    magDerivative = np.lib.pad(derivative, (1,0), 'edge')\n",
    "    dDerivative = np.lib.pad(np.diff(magDerivative), (1,0), 'edge')\n",
    "    feature_list = [magnitude, timeVec, deltimeVec,\\\n",
    "                    magDerivative, dDerivative]\n",
    "    feats = np.vstack(feature_list)\n",
    "    ds = SequentialDataSet(indim, outdim)\n",
    "    resp = np.lib.pad(magnitude[1:], (0,1), 'edge')\n",
    "    for feat, res in zip(feats.T, resp):\n",
    "        ds.addSample(list(feat), res)\n",
    "    return ds, timeVec, magnitude"
   ]
  },
  {
   "cell_type": "code",
   "execution_count": 9,
   "metadata": {
    "collapsed": false
   },
   "outputs": [],
   "source": [
    "dirpath = os.path.dirname(os.getcwd())\n",
    "datapath = os.path.join(dirpath, 'data/HITS/')\n",
    "folders = genfolderHITS(datapath)\n",
    "files, folderpath = genfiles(datapath, folders[0])"
   ]
  },
  {
   "cell_type": "markdown",
   "metadata": {
    "collapsed": true
   },
   "source": [
    "#### Training the LSTM network for the above vector(To test if LSTM can mimic the shape)"
   ]
  },
  {
   "cell_type": "code",
   "execution_count": 40,
   "metadata": {
    "collapsed": true
   },
   "outputs": [],
   "source": [
    "def trainLSTM(net, cycles, dataset, epochs_per_cycle, lstmLayerWidth):\n",
    "    trainer = RPropMinusTrainer(net, dataset = dataset)\n",
    "    for i in xrange(cycles+1):\n",
    "        trainer.trainEpochs(epochs_per_cycle)\n",
    "    state_values = [[] for k in range(lstmLayerWidth)]\n",
    "    state_val = list(net['hidden0'].state)[:len(dataset)]\n",
    "    for state in state_val:\n",
    "        for k in range(lstmLayerWidth):\n",
    "            state_values[k].append(state[k])\n",
    "    return state_values"
   ]
  },
  {
   "cell_type": "code",
   "execution_count": 28,
   "metadata": {
    "collapsed": true
   },
   "outputs": [],
   "source": [
    "##Error function\n",
    "def error_in_prediction(predicted_sample, actual_next_sample):\n",
    "    if type(predicted_sample) is list:\n",
    "        predicted_sample = np.array(predicted_sample)\n",
    "    if type(actual_next_sample) is list:\n",
    "        actual_next_sample = np.array(actual_next_sample)\n",
    "    error = np.mean(np.square(predicted_sample - actual_next_sample))\n",
    "    return error"
   ]
  },
  {
   "cell_type": "code",
   "execution_count": 130,
   "metadata": {
    "collapsed": false
   },
   "outputs": [],
   "source": [
    "##Plotting function\n",
    "def gen_state_iteration_plot(lstm_width, state_values, net, ds,\\\n",
    "        it_num, name, save=False, return_error=False):\n",
    "    if save == True:\n",
    "        #Required to clear the plots in case the function is used to save\n",
    "        #the plots\n",
    "        plt.cla()\n",
    "    f, axarr = plt.subplots(2, 2, figsize=(10,10))\n",
    "    for k in range(lstm_width):\n",
    "        axarr[1,0].plot(state_values[k], label='State '+str(k+1))\n",
    "        if lstm_width > 1:\n",
    "            if k == 0:\n",
    "                master_state = state_values[k]\n",
    "            else:\n",
    "                master_state = [sum(x) for x in zip(master_state,\\\n",
    "                    state_values[k])]\n",
    "    if lstm_width > 1:\n",
    "        axarr[1,0].plot(master_state, label='adding all states')\n",
    "    if lstm_width < 5:\n",
    "        axarr[1,0].legend(prop={'size':6})\n",
    "    axarr[1,0].set_title('State values after '+str(it_num)+\\\n",
    "            ' training iterations')\n",
    "    axarr[1,0].set_xlabel('Time steps')\n",
    "    axarr[1,0].set_ylabel('Magnitude')\n",
    "\n",
    "    current_input = []\n",
    "    predicted_sample = []\n",
    "    actual_next_sample = []\n",
    "    time =[]\n",
    "    for sample, target in ds.getSequenceIterator(0):\n",
    "        current_input.append(sample[0])\n",
    "        time.append(sample[1])\n",
    "        predicted_sample.append(net.activate(sample))\n",
    "        actual_next_sample.append(target)\n",
    "\n",
    "    #Calculating the error    \n",
    "    error = error_in_prediction(predicted_sample, actual_next_sample)\n",
    "    \n",
    "    #calculating number of points\n",
    "    numPoints = len(current_input)\n",
    "    #Plotting the input, predicted output and actual output\n",
    "    axarr[0,0].plot(time,current_input, label='Input')\n",
    "    axarr[0,1].plot(time,predicted_sample,\\\n",
    "            label='Predicted sample')\n",
    "    axarr[1,1].plot(time,actual_next_sample, \\\n",
    "        label = 'Actual next sample')\n",
    "    axarr[0,0].set_xlabel('Time')\n",
    "    axarr[0,0].set_ylabel('Magnitude')\n",
    "    axarr[0,0].set_title('Input')\n",
    "    axarr[0,1].set_xlabel('Time')\n",
    "    axarr[0,1].set_ylabel('Magnitude')\n",
    "    axarr[0,1].set_title('Predicted Sample')\n",
    "    axarr[1,1].set_xlabel('Time')\n",
    "    axarr[1,1].set_ylabel('Magnitude')\n",
    "    axarr[1,1].set_title('Actual next Sample')\n",
    "    if save == True:\n",
    "        plt.savefig('../graphs/SNe/LSTM/'\\\n",
    "                    +str(lstm_width)+'_'\\\n",
    "            +name+'_'+str(it_num)+'.png')\n",
    "        plt.close()\n",
    "        plt.clf()\n",
    "    else:\n",
    "        plt.show()\n",
    "        \n",
    "    if return_error == True:\n",
    "        return error\n",
    "    else:\n",
    "        print \"Error in prediction :\"+str(error)"
   ]
  },
  {
   "cell_type": "code",
   "execution_count": 122,
   "metadata": {
    "collapsed": false
   },
   "outputs": [],
   "source": [
    "#Specifying parameters for the LSTM\n",
    "lstmLayerWidth = 50\n",
    "outdim = 1\n",
    "indim = 5\n",
    "cycles_per_file = 500\n",
    "epochs_per_cycle = 1\n",
    "numfiles = 100\n",
    "net = buildNetwork(indim,lstmLayerWidth,outdim, hiddenclass=LSTMLayer, \\\n",
    "                       outputbias=False, recurrent=True)  "
   ]
  },
  {
   "cell_type": "code",
   "execution_count": 123,
   "metadata": {
    "collapsed": false
   },
   "outputs": [
    {
     "name": "stdout",
     "output_type": "stream",
     "text": [
      "['CEP', 'EB', 'NV', 'QSO', 'Rand', 'RRLy', 'SNe']\n"
     ]
    }
   ],
   "source": [
    "dirpath = os.path.dirname(os.getcwd())\n",
    "datapath = os.path.join(dirpath, 'data/HITS/')\n",
    "folders = genfolderHITS(datapath)\n",
    "print folders\n",
    "files, folderpath = genfiles(datapath, folders[6])\n",
    "timeseries, timeVec, mag = gentimeseries(folderpath,\\\n",
    "                                    files[6], indim, outdim)"
   ]
  },
  {
   "cell_type": "code",
   "execution_count": 124,
   "metadata": {
    "collapsed": false
   },
   "outputs": [],
   "source": [
    "state_values = trainLSTM(net, cycles_per_file, timeseries, epochs_per_cycle, lstmLayerWidth)"
   ]
  },
  {
   "cell_type": "code",
   "execution_count": 125,
   "metadata": {
    "collapsed": false
   },
   "outputs": [
    {
     "data": {
      "image/png": "[encoded data removed]",
      "text/plain": [
       "<matplotlib.figure.Figure at 0x1132830d0>"
      ]
     },
     "metadata": {},
     "output_type": "display_data"
    },
    {
     "name": "stdout",
     "output_type": "stream",
     "text": [
      "Error in prediction :429.395072722\n"
     ]
    }
   ],
   "source": [
    "gen_state_iteration_plot(lstmLayerWidth,\\\n",
    "                state_values, net, timeseries, 0, 'SN')"
   ]
  },
  {
   "cell_type": "markdown",
   "metadata": {},
   "source": [
    "##### Automating code for all the Supernova files"
   ]
  },
  {
   "cell_type": "code",
   "execution_count": 132,
   "metadata": {
    "collapsed": false
   },
   "outputs": [
    {
     "name": "stdout",
     "output_type": "stream",
     "text": [
      "Error in prediction :400.291869249\n",
      "Error in prediction :459.184995002\n",
      "Error in prediction :546.293510497\n",
      "Error in prediction :517.324356219\n",
      "Error in prediction :438.278194283\n",
      "Error in prediction :530.401453249\n",
      "Error in prediction :431.121370287\n",
      "Error in prediction :461.407472627\n",
      "Error in prediction :467.015361602\n",
      "Error in prediction :422.832773823\n"
     ]
    },
    {
     "data": {
      "text/plain": [
       "<matplotlib.figure.Figure at 0x112d96590>"
      ]
     },
     "metadata": {},
     "output_type": "display_data"
    }
   ],
   "source": [
    "dirpath = os.path.dirname(os.getcwd())\n",
    "datapath = os.path.join(dirpath, 'data/HITS/')\n",
    "folders = genfolderHITS(datapath)\n",
    "files, folderpath = genfiles(datapath, folders[6])\n",
    "for f in files:\n",
    "    timeseries, timeVec, mag = gentimeseries(folderpath,\\\n",
    "                                    f, indim, outdim)\n",
    "    lstmLayerWidth = 50\n",
    "    outdim = 1\n",
    "    indim = 5\n",
    "    cycles_per_file = 500\n",
    "    epochs_per_cycle = 1\n",
    "    net = buildNetwork(indim,lstmLayerWidth,outdim, hiddenclass=LSTMLayer, \\\n",
    "                       outputbias=False, recurrent=True)\n",
    "    state_values = trainLSTM(net, cycles_per_file, timeseries, epochs_per_cycle, lstmLayerWidth)\n",
    "    gen_state_iteration_plot(lstmLayerWidth,\\\n",
    "                state_values, net, timeseries, cycles_per_file, 'SN'+f, save=True)"
   ]
  },
  {
   "cell_type": "code",
   "execution_count": 128,
   "metadata": {
    "collapsed": false
   },
   "outputs": [
    {
     "data": {
      "text/plain": [
       "['Blind15A_07_N2_1214_3860_g.dat',\n",
       " 'Blind15A_12_S28_0091_2772_g.dat',\n",
       " 'Blind15A_20_N28_0704_3068_g.dat',\n",
       " 'Blind15A_33_N28_0247_0498_g.dat',\n",
       " 'Blind15A_34_N27_1247_0774_g.dat',\n",
       " 'Blind15A_41_N9_1852_3247_g.dat',\n",
       " 'Blind15A_42_S9_1021_1230_g.dat',\n",
       " 'Blind15A_43_N25_0814_0140_g.dat',\n",
       " 'Blind15A_47_N7_0329_0663_g.dat',\n",
       " 'Blind15A_47_S27_0978_3515_g.dat']"
      ]
     },
     "execution_count": 128,
     "metadata": {},
     "output_type": "execute_result"
    }
   ],
   "source": [
    "files"
   ]
  },
  {
   "cell_type": "code",
   "execution_count": null,
   "metadata": {
    "collapsed": true
   },
   "outputs": [],
   "source": []
  }
 ],
 "metadata": {
  "kernelspec": {
   "display_name": "Python 2",
   "language": "python",
   "name": "python2"
  },
  "language_info": {
   "codemirror_mode": {
    "name": "ipython",
    "version": 2
   },
   "file_extension": ".py",
   "mimetype": "text/x-python",
   "name": "python",
   "nbconvert_exporter": "python",
   "pygments_lexer": "ipython2",
   "version": "2.7.11"
  }
 },
 "nbformat": 4,
 "nbformat_minor": 0
}
