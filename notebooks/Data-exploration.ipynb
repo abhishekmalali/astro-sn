{
 "cells": [
  {
   "cell_type": "code",
   "execution_count": 21,
   "metadata": {
    "collapsed": true
   },
   "outputs": [],
   "source": [
    "import numpy as np\n",
    "import pandas as pd\n",
    "import matplotlib.pyplot as plt\n",
    "%matplotlib inline"
   ]
  },
  {
   "cell_type": "code",
   "execution_count": 14,
   "metadata": {
    "collapsed": false
   },
   "outputs": [],
   "source": [
    "sn_1 = pd.read_csv('../data/SNe/Blind15A_07_N2_1214_3860_g.dat', sep='\\s+',skiprows=1,\\\n",
    "                  header=None)\n",
    "sn_1.columns = ['Epoch', 'MJD', 'Mag_auto', 'Mag_err_auto','Flux_auto', 'Flux_err_auto']"
   ]
  },
  {
   "cell_type": "code",
   "execution_count": 15,
   "metadata": {
    "collapsed": false
   },
   "outputs": [
    {
     "data": {
      "text/html": [
       "<div>\n",
       "<table border=\"1\" class=\"dataframe\">\n",
       "  <thead>\n",
       "    <tr style=\"text-align: right;\">\n",
       "      <th></th>\n",
       "      <th>Epoch</th>\n",
       "      <th>MJD</th>\n",
       "      <th>Mag_auto</th>\n",
       "      <th>Mag_err_auto</th>\n",
       "      <th>Flux_auto</th>\n",
       "      <th>Flux_err_auto</th>\n",
       "    </tr>\n",
       "  </thead>\n",
       "  <tbody>\n",
       "    <tr>\n",
       "      <th>0</th>\n",
       "      <td>2</td>\n",
       "      <td>57070.115263</td>\n",
       "      <td>20.2165</td>\n",
       "      <td>0.047722</td>\n",
       "      <td>6984.694</td>\n",
       "      <td>231.950368</td>\n",
       "    </tr>\n",
       "    <tr>\n",
       "      <th>1</th>\n",
       "      <td>3</td>\n",
       "      <td>57070.200417</td>\n",
       "      <td>20.2684</td>\n",
       "      <td>0.046309</td>\n",
       "      <td>6679.519</td>\n",
       "      <td>219.089241</td>\n",
       "    </tr>\n",
       "    <tr>\n",
       "      <th>2</th>\n",
       "      <td>4</td>\n",
       "      <td>57070.269057</td>\n",
       "      <td>20.2668</td>\n",
       "      <td>0.049853</td>\n",
       "      <td>6525.130</td>\n",
       "      <td>221.731573</td>\n",
       "    </tr>\n",
       "    <tr>\n",
       "      <th>3</th>\n",
       "      <td>5</td>\n",
       "      <td>57071.044058</td>\n",
       "      <td>20.1971</td>\n",
       "      <td>0.051302</td>\n",
       "      <td>6539.292</td>\n",
       "      <td>195.267704</td>\n",
       "    </tr>\n",
       "    <tr>\n",
       "      <th>4</th>\n",
       "      <td>6</td>\n",
       "      <td>57071.111821</td>\n",
       "      <td>20.1903</td>\n",
       "      <td>0.042317</td>\n",
       "      <td>7046.831</td>\n",
       "      <td>185.099072</td>\n",
       "    </tr>\n",
       "  </tbody>\n",
       "</table>\n",
       "</div>"
      ],
      "text/plain": [
       "   Epoch           MJD  Mag_auto  Mag_err_auto  Flux_auto  Flux_err_auto\n",
       "0      2  57070.115263   20.2165      0.047722   6984.694     231.950368\n",
       "1      3  57070.200417   20.2684      0.046309   6679.519     219.089241\n",
       "2      4  57070.269057   20.2668      0.049853   6525.130     221.731573\n",
       "3      5  57071.044058   20.1971      0.051302   6539.292     195.267704\n",
       "4      6  57071.111821   20.1903      0.042317   7046.831     185.099072"
      ]
     },
     "execution_count": 15,
     "metadata": {},
     "output_type": "execute_result"
    }
   ],
   "source": [
    "sn_1.head()"
   ]
  },
  {
   "cell_type": "code",
   "execution_count": 26,
   "metadata": {
    "collapsed": false
   },
   "outputs": [
    {
     "name": "stdout",
     "output_type": "stream",
     "text": [
      "[    0.     8.    15.    92.    99.   106.   113.   120.   192.   199.\n",
      "   206.   213.   219.   292.   392.   418.   491.   498.   505.   512.\n",
      "   519.   697.   703.   996.  1002.  2009.  2503.]\n"
     ]
    }
   ],
   "source": [
    "time_vec = np.array(sn_1['MJD'])*100\n",
    "time_vec = np.floor(time_vec - time_vec[0])\n",
    "print time_vec"
   ]
  },
  {
   "cell_type": "code",
   "execution_count": null,
   "metadata": {
    "collapsed": true
   },
   "outputs": [],
   "source": []
  }
 ],
 "metadata": {
  "kernelspec": {
   "display_name": "Python 2",
   "language": "python",
   "name": "python2"
  },
  "language_info": {
   "codemirror_mode": {
    "name": "ipython",
    "version": 2
   },
   "file_extension": ".py",
   "mimetype": "text/x-python",
   "name": "python",
   "nbconvert_exporter": "python",
   "pygments_lexer": "ipython2",
   "version": "2.7.11"
  }
 },
 "nbformat": 4,
 "nbformat_minor": 0
}
