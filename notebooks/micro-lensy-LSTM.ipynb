{
 "cells": [
  {
   "cell_type": "code",
   "execution_count": 2,
   "metadata": {
    "collapsed": true
   },
   "outputs": [],
   "source": [
    "#Imports\n",
    "import numpy as np\n",
    "import pandas as pd\n",
    "import os\n",
    "from pybrain.datasets import SequentialDataSet\n",
    "from itertools import cycle\n",
    "from pybrain.tools.shortcuts import buildNetwork\n",
    "from pybrain.structure.modules import LSTMLayer\n",
    "from pybrain.supervised import RPropMinusTrainer\n",
    "import matplotlib.pyplot as plt\n",
    "%matplotlib inline"
   ]
  },
  {
   "cell_type": "code",
   "execution_count": 45,
   "metadata": {
    "collapsed": true
   },
   "outputs": [],
   "source": [
    "def listdir_nohidden(path):\n",
    "    list_files = []\n",
    "    for f in os.listdir(path):\n",
    "        if not f.startswith('.'):\n",
    "            list_files.append(f)\n",
    "    return list_files"
   ]
  },
  {
   "cell_type": "code",
   "execution_count": 68,
   "metadata": {
    "collapsed": false
   },
   "outputs": [
    {
     "name": "stdout",
     "output_type": "stream",
     "text": [
      "lc_1.3324.122.B.mjd\n"
     ]
    }
   ],
   "source": [
    "#Getting the list of files\n",
    "dirpath = os.path.dirname(os.getcwd())\n",
    "datapath = os.path.join(dirpath, 'data/ML')\n",
    "list_files = listdir_nohidden(datapath)\n",
    "suffix = [files.split('.')[3] for files in list_files]\n",
    "#Starter code when we want to use different bands for analysis\n",
    "file_s = list_files[0]\n",
    "print file_s"
   ]
  },
  {
   "cell_type": "code",
   "execution_count": 69,
   "metadata": {
    "collapsed": false
   },
   "outputs": [],
   "source": [
    "filepath = os.path.join(datapath, file_s)\n",
    "data = []\n",
    "with open(filepath) as f:\n",
    "    lines = f.readlines()\n",
    "    header = [str(val) for val in lines[2].split(' ')]\n",
    "    for line in lines[3:]:\n",
    "        data.append([float(val) for val in line.split(' ')])"
   ]
  },
  {
   "cell_type": "code",
   "execution_count": 70,
   "metadata": {
    "collapsed": false
   },
   "outputs": [],
   "source": [
    "data_df = pd.DataFrame(data)\n",
    "data_df.columns = header"
   ]
  },
  {
   "cell_type": "code",
   "execution_count": 76,
   "metadata": {
    "collapsed": false
   },
   "outputs": [
    {
     "name": "stdout",
     "output_type": "stream",
     "text": [
      "/Users/abhishek/CSE/thesis-work/astro-sn/graphs/microlensy/lc_1.3324.122.B.mjd.png\n"
     ]
    },
    {
     "data": {
      "image/png": "[encoded data removed]",
      "text/plain": [
       "<matplotlib.figure.Figure at 0x11156f850>"
      ]
     },
     "metadata": {},
     "output_type": "display_data"
    }
   ],
   "source": [
    "plt.plot(data_df['#MJD'], data_df['Mag'])\n",
    "plt.xlabel('Julian Time')\n",
    "plt.ylabel('Magnitude')\n",
    "plt.title('Plotting '+file_s)\n",
    "plt.savefigos.path.join(dirpath,'graphs/microlensy/')\\\n",
    "            +file_s+'.png'"
   ]
  },
  {
   "cell_type": "code",
   "execution_count": null,
   "metadata": {
    "collapsed": true
   },
   "outputs": [],
   "source": []
  }
 ],
 "metadata": {
  "kernelspec": {
   "display_name": "Python 2",
   "language": "python",
   "name": "python2"
  },
  "language_info": {
   "codemirror_mode": {
    "name": "ipython",
    "version": 2
   },
   "file_extension": ".py",
   "mimetype": "text/x-python",
   "name": "python",
   "nbconvert_exporter": "python",
   "pygments_lexer": "ipython2",
   "version": "2.7.11"
  }
 },
 "nbformat": 4,
 "nbformat_minor": 0
}
