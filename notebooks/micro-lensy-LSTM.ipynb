{
 "cells": [
  {
   "cell_type": "code",
   "execution_count": 2,
   "metadata": {
    "collapsed": true
   },
   "outputs": [],
   "source": [
    "#Imports\n",
    "import numpy as np\n",
    "import pandas as pd\n",
    "import os\n",
    "from pybrain.datasets import SequentialDataSet\n",
    "from itertools import cycle\n",
    "from pybrain.tools.shortcuts import buildNetwork\n",
    "from pybrain.structure.modules import LSTMLayer\n",
    "from pybrain.supervised import RPropMinusTrainer\n",
    "import matplotlib.pyplot as plt\n",
    "%matplotlib inline"
   ]
  },
  {
   "cell_type": "code",
   "execution_count": 3,
   "metadata": {
    "collapsed": true
   },
   "outputs": [],
   "source": [
    "def listdir_nohidden(path):\n",
    "    list_files = []\n",
    "    for f in os.listdir(path):\n",
    "        if not f.startswith('.'):\n",
    "            list_files.append(f)\n",
    "    return list_files"
   ]
  },
  {
   "cell_type": "code",
   "execution_count": 4,
   "metadata": {
    "collapsed": false
   },
   "outputs": [
    {
     "name": "stdout",
     "output_type": "stream",
     "text": [
      "lc_101.21170.2699.B.mjd\n"
     ]
    }
   ],
   "source": [
    "#Getting the list of files\n",
    "dirpath = os.path.dirname(os.getcwd())\n",
    "datapath = os.path.join(dirpath, 'data/ML')\n",
    "list_files = listdir_nohidden(datapath)\n",
    "suffix = [files.split('.')[3] for files in list_files]\n",
    "#Starter code when we want to use different bands for analysis\n",
    "file_s = list_files[24]\n",
    "print file_s"
   ]
  },
  {
   "cell_type": "code",
   "execution_count": 5,
   "metadata": {
    "collapsed": false
   },
   "outputs": [],
   "source": [
    "filepath = os.path.join(datapath, file_s)\n",
    "data = []\n",
    "with open(filepath) as f:\n",
    "    lines = f.readlines()\n",
    "    header = [str(val) for val in lines[2].split(' ')]\n",
    "    for line in lines[3:]:\n",
    "        data.append([float(val) for val in line.split(' ')])"
   ]
  },
  {
   "cell_type": "code",
   "execution_count": 6,
   "metadata": {
    "collapsed": false
   },
   "outputs": [],
   "source": [
    "data_df = pd.DataFrame(data)\n",
    "data_df.columns = header"
   ]
  },
  {
   "cell_type": "code",
   "execution_count": 7,
   "metadata": {
    "collapsed": false
   },
   "outputs": [
    {
     "data": {
      "image/png": "[encoded data removed]",
      "text/plain": [
       "<matplotlib.figure.Figure at 0x10de04f90>"
      ]
     },
     "metadata": {},
     "output_type": "display_data"
    }
   ],
   "source": [
    "plt.plot(data_df['#MJD'], data_df['Mag'])\n",
    "plt.xlabel('Julian Time')\n",
    "plt.ylabel('Magnitude')\n",
    "plt.title('Plotting '+file_s)\n",
    "plt.savefig(os.path.join(dirpath,'graphs/microlensy/')\\\n",
    "            +file_s+'.png')"
   ]
  },
  {
   "cell_type": "code",
   "execution_count": 20,
   "metadata": {
    "collapsed": false
   },
   "outputs": [],
   "source": [
    "indim = 4\n",
    "outdim = 1\n",
    "lstmLayerWidth = 50\n",
    "data_arr = np.array(data)\n",
    "time = data_arr[:,0] - data_arr[0,0]\n",
    "mag = data_arr[:,1]\n",
    "delta_time = np.lib.pad(np.diff(time), (1,0), 'edge')\n",
    "derivative = np.divide(np.diff(mag), np.diff(time))\n",
    "magDerivative = np.lib.pad(derivative, (1,0), 'edge')\n",
    "resp = np.lib.pad(mag[1:], (0,1), 'edge')\n",
    "feature_list = [mag, time, delta_time, magDerivative]\n",
    "feats = np.vstack(feature_list)\n",
    "ds = SequentialDataSet(indim, outdim)\n",
    "for feat, res in zip(feats.T, resp):\n",
    "    ds.addSample(list(feat), res)"
   ]
  },
  {
   "cell_type": "code",
   "execution_count": 21,
   "metadata": {
    "collapsed": true
   },
   "outputs": [],
   "source": [
    "cycles_per_file = 200\n",
    "epochs_per_cycle = 1\n",
    "net = buildNetwork(indim,lstmLayerWidth,outdim, hiddenclass=LSTMLayer, \\\n",
    "                       outputbias=False, recurrent=True)  "
   ]
  },
  {
   "cell_type": "code",
   "execution_count": 10,
   "metadata": {
    "collapsed": true
   },
   "outputs": [],
   "source": [
    "##Error function\n",
    "def error_in_prediction(predicted_sample, actual_next_sample):\n",
    "    if type(predicted_sample) is list:\n",
    "        predicted_sample = np.array(predicted_sample)\n",
    "    if type(actual_next_sample) is list:\n",
    "        actual_next_sample = np.array(actual_next_sample)\n",
    "    error = np.mean(np.square(predicted_sample - actual_next_sample))\n",
    "    return error"
   ]
  },
  {
   "cell_type": "code",
   "execution_count": 24,
   "metadata": {
    "collapsed": true
   },
   "outputs": [],
   "source": [
    "##Plotting function\n",
    "def gen_state_iteration_plot(lstm_width, state_values, net, ds,\\\n",
    "        it_num, name, save=False, return_error=False):\n",
    "    if save == True:\n",
    "        #Required to clear the plots in case the function is used to save\n",
    "        #the plots\n",
    "        plt.cla()\n",
    "    f, axarr = plt.subplots(2, 2, figsize=(10,10))\n",
    "    for k in range(lstm_width):\n",
    "        axarr[1,0].plot(state_values[k], label='State '+str(k+1))\n",
    "        if lstm_width > 1:\n",
    "            if k == 0:\n",
    "                master_state = state_values[k]\n",
    "            else:\n",
    "                master_state = [sum(x) for x in zip(master_state,\\\n",
    "                    state_values[k])]\n",
    "    if lstm_width > 1:\n",
    "        axarr[1,0].plot(master_state, label='adding all states')\n",
    "    axarr[1,0].legend(prop={'size':6})\n",
    "    axarr[1,0].set_title('State values after '+str(it_num)+\\\n",
    "            ' training iterations')\n",
    "    axarr[1,0].set_xlabel('Time steps')\n",
    "    axarr[1,0].set_ylabel('Magnitude')\n",
    "\n",
    "    current_input = []\n",
    "    predicted_sample = []\n",
    "    actual_next_sample = []\n",
    "    time = []\n",
    "    for sample, target in ds.getSequenceIterator(0):\n",
    "        current_input.append(sample[0])\n",
    "        time.append(sample[1])\n",
    "        predicted_sample.append(net.activate(sample))\n",
    "        actual_next_sample.append(target)\n",
    "\n",
    "    #Calculating the error    \n",
    "    error = error_in_prediction(predicted_sample, actual_next_sample)\n",
    "    \n",
    "    #calculating number of points\n",
    "    numPoints = len(current_input)\n",
    "    #Plotting the input, predicted output and actual output\n",
    "    axarr[0,0].plot(time,current_input, label='Input')\n",
    "    axarr[0,1].plot(time,predicted_sample,\\\n",
    "            label='Predicted sample')\n",
    "    axarr[1,1].plot(time,actual_next_sample, \\\n",
    "        label = 'Actual next sample')\n",
    "    axarr[0,0].set_xlabel('Time steps')\n",
    "    axarr[0,0].set_ylabel('Magnitude')\n",
    "    axarr[0,0].set_title('Input')\n",
    "    axarr[0,1].set_xlabel('Time steps')\n",
    "    axarr[0,1].set_ylabel('Magnitude')\n",
    "    axarr[0,1].set_title('Predicted Sample')\n",
    "    axarr[1,1].set_xlabel('Time steps')\n",
    "    axarr[1,1].set_ylabel('Magnitude')\n",
    "    axarr[1,1].set_title('Actual next Sample')\n",
    "    if save == True:\n",
    "        plt.savefig('microlensing_3.png')\n",
    "        plt.close()\n",
    "        plt.clf()\n",
    "    else:\n",
    "        plt.show()\n",
    "        \n",
    "    if return_error == True:\n",
    "        return error\n",
    "    else:\n",
    "        print \"Error in prediction :\"+str(error)"
   ]
  },
  {
   "cell_type": "code",
   "execution_count": 25,
   "metadata": {
    "collapsed": false
   },
   "outputs": [
    {
     "name": "stdout",
     "output_type": "stream",
     "text": [
      "Error in prediction :0.778624061179\n"
     ]
    },
    {
     "data": {
      "text/plain": [
       "<matplotlib.figure.Figure at 0x110fb1950>"
      ]
     },
     "metadata": {},
     "output_type": "display_data"
    }
   ],
   "source": [
    "trainer = RPropMinusTrainer(net, dataset= ds)\n",
    "train_errors = []\n",
    "state_values = [[] for k in range(lstmLayerWidth)]\n",
    "epochs_per_cycle = 1\n",
    "cycles =1000\n",
    "epochs = epochs_per_cycle * cycles\n",
    "for i in xrange(cycles):\n",
    "    trainer.trainEpochs(epochs_per_cycle)\n",
    "    train_errors.append(trainer.testOnData())\n",
    "    epoch = (i+1) * epochs_per_cycle\n",
    "    #print \"\\r epoch {}/{}\".format(epoch, epochs)\n",
    "state_values = [[] for k in range(lstmLayerWidth)]\n",
    "state_val = list(net['hidden0'].state)[:len(data)]\n",
    "for state in state_val:\n",
    "    for k in range(lstmLayerWidth):\n",
    "        state_values[k].append(state[k])\n",
    "gen_state_iteration_plot(lstmLayerWidth,\\\n",
    "                state_values, net, ds, i, 'sin', save=True)"
   ]
  },
  {
   "cell_type": "code",
   "execution_count": 14,
   "metadata": {
    "collapsed": false
   },
   "outputs": [
    {
     "data": {
      "text/plain": [
       "<matplotlib.figure.Figure at 0x11020fd50>"
      ]
     },
     "metadata": {},
     "output_type": "display_data"
    }
   ],
   "source": []
  },
  {
   "cell_type": "code",
   "execution_count": null,
   "metadata": {
    "collapsed": true
   },
   "outputs": [],
   "source": []
  }
 ],
 "metadata": {
  "kernelspec": {
   "display_name": "Python 2",
   "language": "python",
   "name": "python2"
  },
  "language_info": {
   "codemirror_mode": {
    "name": "ipython",
    "version": 2
   },
   "file_extension": ".py",
   "mimetype": "text/x-python",
   "name": "python",
   "nbconvert_exporter": "python",
   "pygments_lexer": "ipython2",
   "version": "2.7.11"
  }
 },
 "nbformat": 4,
 "nbformat_minor": 0
}
